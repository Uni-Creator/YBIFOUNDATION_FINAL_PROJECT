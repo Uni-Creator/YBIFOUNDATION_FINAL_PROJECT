{
  "cells": [
    {
      "cell_type": "markdown",
      "metadata": {
        "id": "vSaDQKKQfEJ4"
      },
      "source": [
        "# YBI Foundation Final Project: Mileage Prediction\n",
        "## Objective\n",
        "To predict the digits based on the given data of hand written digits using machine learning techniques.\n",
        "## Data Source\n",
        "The digits dataset from sklearn."
      ],
      "id": "vSaDQKKQfEJ4"
    },
    {
      "cell_type": "code",
      "execution_count": 3,
      "metadata": {
        "id": "ptg8Di9-fEJ5"
      },
      "outputs": [],
      "source": [
        "# Import Library\n",
        "import pandas as pd\n",
        "import numpy as np\n",
        "import matplotlib.pyplot as plt\n",
        "from sklearn.datasets import load_digits\n",
        "from sklearn.model_selection import train_test_split\n",
        "from sklearn.ensemble import RandomForestClassifier\n",
        "from sklearn.metrics import confusion_matrix, classification_report"
      ],
      "id": "ptg8Di9-fEJ5"
    },
    {
      "cell_type": "markdown",
      "metadata": {
        "id": "XP6mbI1efEJ5"
      },
      "source": [
        "## Import Data"
      ],
      "id": "XP6mbI1efEJ5"
    },
    {
      "cell_type": "code",
      "execution_count": 4,
      "metadata": {
        "id": "775ns313fEJ5"
      },
      "outputs": [],
      "source": [
        "df = load_digits()"
      ],
      "id": "775ns313fEJ5"
    },
    {
      "cell_type": "markdown",
      "metadata": {
        "id": "6QVIYPsefEJ6"
      },
      "source": [
        "## Describe Data"
      ],
      "id": "6QVIYPsefEJ6"
    },
    {
      "cell_type": "code",
      "execution_count": 8,
      "metadata": {
        "colab": {
          "base_uri": "https://localhost:8080/"
        },
        "id": "cLpW2fMEfEJ6",
        "outputId": "633928c3-a809-4e84-8290-bbdbd3cb8e52"
      },
      "outputs": [
        {
          "output_type": "execute_result",
          "data": {
            "text/plain": [
              "1797"
            ]
          },
          "metadata": {},
          "execution_count": 8
        }
      ],
      "source": [
        "df.images.shape"
      ],
      "id": "cLpW2fMEfEJ6"
    },
    {
      "cell_type": "code",
      "source": [
        "df.images[0]"
      ],
      "metadata": {
        "colab": {
          "base_uri": "https://localhost:8080/"
        },
        "id": "0ngxsoX2CRb1",
        "outputId": "d481fc73-58e1-43c5-dfce-9ed3338e519e"
      },
      "id": "0ngxsoX2CRb1",
      "execution_count": 9,
      "outputs": [
        {
          "output_type": "execute_result",
          "data": {
            "text/plain": [
              "array([[ 0.,  0.,  5., 13.,  9.,  1.,  0.,  0.],\n",
              "       [ 0.,  0., 13., 15., 10., 15.,  5.,  0.],\n",
              "       [ 0.,  3., 15.,  2.,  0., 11.,  8.,  0.],\n",
              "       [ 0.,  4., 12.,  0.,  0.,  8.,  8.,  0.],\n",
              "       [ 0.,  5.,  8.,  0.,  0.,  9.,  8.,  0.],\n",
              "       [ 0.,  4., 11.,  0.,  1., 12.,  7.,  0.],\n",
              "       [ 0.,  2., 14.,  5., 10., 12.,  0.,  0.],\n",
              "       [ 0.,  0.,  6., 13., 10.,  0.,  0.,  0.]])"
            ]
          },
          "metadata": {},
          "execution_count": 9
        }
      ]
    },
    {
      "cell_type": "code",
      "source": [
        "df.images[0].shape"
      ],
      "metadata": {
        "colab": {
          "base_uri": "https://localhost:8080/"
        },
        "id": "Kzs57yoACTvr",
        "outputId": "446ccac7-fcb9-4481-fe79-146ade1db0fe"
      },
      "id": "Kzs57yoACTvr",
      "execution_count": 10,
      "outputs": [
        {
          "output_type": "execute_result",
          "data": {
            "text/plain": [
              "(8, 8)"
            ]
          },
          "metadata": {},
          "execution_count": 10
        }
      ]
    },
    {
      "cell_type": "code",
      "source": [
        "len(df.images)"
      ],
      "metadata": {
        "colab": {
          "base_uri": "https://localhost:8080/"
        },
        "id": "Rr812WtDCVhE",
        "outputId": "ae9a375a-6b95-43d4-c00c-6d092042fe75"
      },
      "id": "Rr812WtDCVhE",
      "execution_count": 11,
      "outputs": [
        {
          "output_type": "execute_result",
          "data": {
            "text/plain": [
              "1797"
            ]
          },
          "metadata": {},
          "execution_count": 11
        }
      ]
    },
    {
      "cell_type": "markdown",
      "metadata": {
        "id": "5vY6jSBKfEJ6"
      },
      "source": [
        "## Data Visualization"
      ],
      "id": "5vY6jSBKfEJ6"
    },
    {
      "cell_type": "code",
      "execution_count": 13,
      "metadata": {
        "colab": {
          "base_uri": "https://localhost:8080/",
          "height": 227
        },
        "id": "69WK94O_fEJ6",
        "outputId": "73b61107-60a7-44dc-82d8-cd90857fec63"
      },
      "outputs": [
        {
          "output_type": "display_data",
          "data": {
            "text/plain": [
              "<Figure size 1000x300 with 4 Axes>"
            ],
            "image/png": "[encoded data removed]"
          },
          "metadata": {}
        }
      ],
      "source": [
        "_, axes = plt.subplots(nrows=1, ncols=4, figsize=(10, 3))\n",
        "for ax, image, label in zip(axes, df.images, df.target):\n",
        "    ax.set_axis_off()\n",
        "    ax.imshow(image, cmap=plt.cm.gray_r, interpolation='nearest')\n",
        "    ax.set_title(\"Training: \" + str(label))"
      ],
      "id": "69WK94O_fEJ6"
    },
    {
      "cell_type": "markdown",
      "metadata": {
        "id": "4usjz_sDfEJ6"
      },
      "source": [
        "## Data Preprocessing"
      ],
      "id": "4usjz_sDfEJ6"
    },
    {
      "cell_type": "code",
      "execution_count": 14,
      "metadata": {
        "id": "K-BfEwWyfEJ6"
      },
      "outputs": [],
      "source": [
        "n_samples = len(df.images)\n",
        "data = df.images.reshape((n_samples, -1))"
      ],
      "id": "K-BfEwWyfEJ6"
    },
    {
      "cell_type": "code",
      "source": [
        "data[0]"
      ],
      "metadata": {
        "colab": {
          "base_uri": "https://localhost:8080/"
        },
        "id": "7c71nfy8CeDQ",
        "outputId": "16139624-06f4-4de2-b2f7-f80ffe8f9210"
      },
      "id": "7c71nfy8CeDQ",
      "execution_count": 15,
      "outputs": [
        {
          "output_type": "execute_result",
          "data": {
            "text/plain": [
              "array([ 0.,  0.,  5., 13.,  9.,  1.,  0.,  0.,  0.,  0., 13., 15., 10.,\n",
              "       15.,  5.,  0.,  0.,  3., 15.,  2.,  0., 11.,  8.,  0.,  0.,  4.,\n",
              "       12.,  0.,  0.,  8.,  8.,  0.,  0.,  5.,  8.,  0.,  0.,  9.,  8.,\n",
              "        0.,  0.,  4., 11.,  0.,  1., 12.,  7.,  0.,  0.,  2., 14.,  5.,\n",
              "       10., 12.,  0.,  0.,  0.,  0.,  6., 13., 10.,  0.,  0.,  0.])"
            ]
          },
          "metadata": {},
          "execution_count": 15
        }
      ]
    },
    {
      "cell_type": "code",
      "source": [
        "data[0].shape"
      ],
      "metadata": {
        "colab": {
          "base_uri": "https://localhost:8080/"
        },
        "id": "MpTuaHvDChg_",
        "outputId": "0cb8121d-9ed0-4e24-e3a2-d60b0beec750"
      },
      "id": "MpTuaHvDChg_",
      "execution_count": 16,
      "outputs": [
        {
          "output_type": "execute_result",
          "data": {
            "text/plain": [
              "(64,)"
            ]
          },
          "metadata": {},
          "execution_count": 16
        }
      ]
    },
    {
      "cell_type": "code",
      "source": [
        "data.shape"
      ],
      "metadata": {
        "colab": {
          "base_uri": "https://localhost:8080/"
        },
        "id": "BbGadZdMCjs2",
        "outputId": "73810eaf-2d8b-4225-c388-30147641e9be"
      },
      "id": "BbGadZdMCjs2",
      "execution_count": 17,
      "outputs": [
        {
          "output_type": "execute_result",
          "data": {
            "text/plain": [
              "(1797, 64)"
            ]
          },
          "metadata": {},
          "execution_count": 17
        }
      ]
    },
    {
      "cell_type": "code",
      "source": [
        "data.min()"
      ],
      "metadata": {
        "colab": {
          "base_uri": "https://localhost:8080/"
        },
        "id": "XR9lIayOCmhg",
        "outputId": "6534c2c9-463e-474c-f34b-fe91077b0fa4"
      },
      "id": "XR9lIayOCmhg",
      "execution_count": 18,
      "outputs": [
        {
          "output_type": "execute_result",
          "data": {
            "text/plain": [
              "0.0"
            ]
          },
          "metadata": {},
          "execution_count": 18
        }
      ]
    },
    {
      "cell_type": "code",
      "source": [
        "data.max()"
      ],
      "metadata": {
        "colab": {
          "base_uri": "https://localhost:8080/"
        },
        "id": "auAS0YzlCoo5",
        "outputId": "17f74ca3-2959-4dd7-b879-69f83495492f"
      },
      "id": "auAS0YzlCoo5",
      "execution_count": 19,
      "outputs": [
        {
          "output_type": "execute_result",
          "data": {
            "text/plain": [
              "16.0"
            ]
          },
          "metadata": {},
          "execution_count": 19
        }
      ]
    },
    {
      "cell_type": "code",
      "source": [
        "data = data/16"
      ],
      "metadata": {
        "id": "Q6tDlXtDCqhf"
      },
      "id": "Q6tDlXtDCqhf",
      "execution_count": 20,
      "outputs": []
    },
    {
      "cell_type": "code",
      "source": [
        "data.min()"
      ],
      "metadata": {
        "colab": {
          "base_uri": "https://localhost:8080/"
        },
        "id": "9IkSsJOJCshS",
        "outputId": "6c9a62cc-1bfd-4bfa-b9ea-748e49bcea57"
      },
      "id": "9IkSsJOJCshS",
      "execution_count": 21,
      "outputs": [
        {
          "output_type": "execute_result",
          "data": {
            "text/plain": [
              "0.0"
            ]
          },
          "metadata": {},
          "execution_count": 21
        }
      ]
    },
    {
      "cell_type": "code",
      "source": [
        "data.max()"
      ],
      "metadata": {
        "colab": {
          "base_uri": "https://localhost:8080/"
        },
        "id": "GOPYEBW3CvL6",
        "outputId": "9dcfc9d3-9d61-43fb-f7ec-47f1a94674bd"
      },
      "id": "GOPYEBW3CvL6",
      "execution_count": 22,
      "outputs": [
        {
          "output_type": "execute_result",
          "data": {
            "text/plain": [
              "1.0"
            ]
          },
          "metadata": {},
          "execution_count": 22
        }
      ]
    },
    {
      "cell_type": "code",
      "source": [
        "data[0]"
      ],
      "metadata": {
        "colab": {
          "base_uri": "https://localhost:8080/"
        },
        "id": "mejNCQBNCw7R",
        "outputId": "863ee608-b5b4-4c6d-cdc3-4ee0b95840d6"
      },
      "id": "mejNCQBNCw7R",
      "execution_count": 23,
      "outputs": [
        {
          "output_type": "execute_result",
          "data": {
            "text/plain": [
              "array([0.    , 0.    , 0.3125, 0.8125, 0.5625, 0.0625, 0.    , 0.    ,\n",
              "       0.    , 0.    , 0.8125, 0.9375, 0.625 , 0.9375, 0.3125, 0.    ,\n",
              "       0.    , 0.1875, 0.9375, 0.125 , 0.    , 0.6875, 0.5   , 0.    ,\n",
              "       0.    , 0.25  , 0.75  , 0.    , 0.    , 0.5   , 0.5   , 0.    ,\n",
              "       0.    , 0.3125, 0.5   , 0.    , 0.    , 0.5625, 0.5   , 0.    ,\n",
              "       0.    , 0.25  , 0.6875, 0.    , 0.0625, 0.75  , 0.4375, 0.    ,\n",
              "       0.    , 0.125 , 0.875 , 0.3125, 0.625 , 0.75  , 0.    , 0.    ,\n",
              "       0.    , 0.    , 0.375 , 0.8125, 0.625 , 0.    , 0.    , 0.    ])"
            ]
          },
          "metadata": {},
          "execution_count": 23
        }
      ]
    },
    {
      "cell_type": "markdown",
      "metadata": {
        "id": "OHWC8GzEfEJ7"
      },
      "source": [
        "## Define Target Variable (y) and Feature Variables (X)"
      ],
      "id": "OHWC8GzEfEJ7"
    },
    {
      "cell_type": "code",
      "execution_count": null,
      "metadata": {
        "id": "elOkEFgpfEJ7"
      },
      "outputs": [],
      "source": [
        "X = data\n",
        "y = df.target"
      ],
      "id": "elOkEFgpfEJ7"
    },
    {
      "cell_type": "markdown",
      "metadata": {
        "id": "mO5LwpKpfEJ7"
      },
      "source": [
        "## Train Test Split"
      ],
      "id": "mO5LwpKpfEJ7"
    },
    {
      "cell_type": "code",
      "execution_count": null,
      "metadata": {
        "colab": {
          "base_uri": "https://localhost:8080/"
        },
        "id": "dqMLlRj3fEJ7",
        "outputId": "490e0700-3943-4b01-bce7-0fb76577e0f3"
      },
      "outputs": [
        {
          "output_type": "execute_result",
          "data": {
            "text/plain": [
              "((1257, 64), (540, 64), (1257,), (540,))"
            ]
          },
          "metadata": {},
          "execution_count": 7
        }
      ],
      "source": [
        "x_train, x_test, y_train, y_test = train_test_split(X, y, test_size=0.3)\n",
        "\n",
        "x_train.shape, x_test.shape, y_train.shape, y_test.shape"
      ],
      "id": "dqMLlRj3fEJ7"
    },
    {
      "cell_type": "markdown",
      "metadata": {
        "id": "9zu3IgL2fEJ7"
      },
      "source": [
        "## Modeling"
      ],
      "id": "9zu3IgL2fEJ7"
    },
    {
      "cell_type": "code",
      "execution_count": null,
      "metadata": {
        "colab": {
          "base_uri": "https://localhost:8080/",
          "height": 74
        },
        "id": "E3xPGUH3fEJ7",
        "outputId": "f17ac0cd-b9ed-4143-bc04-af585097572c"
      },
      "outputs": [
        {
          "output_type": "execute_result",
          "data": {
            "text/plain": [
              "RandomForestClassifier()"
            ],
            "text/html": [
              "<style>#sk-container-id-1 {color: black;background-color: white;}#sk-container-id-1 pre{padding: 0;}#sk-container-id-1 div.sk-toggleable {background-color: white;}#sk-container-id-1 label.sk-toggleable__label {cursor: pointer;display: block;width: 100%;margin-bottom: 0;padding: 0.3em;box-sizing: border-box;text-align: center;}#sk-container-id-1 label.sk-toggleable__label-arrow:before {content: \"▸\";float: left;margin-right: 0.25em;color: #696969;}#sk-container-id-1 label.sk-toggleable__label-arrow:hover:before {color: black;}#sk-container-id-1 div.sk-estimator:hover label.sk-toggleable__label-arrow:before {color: black;}#sk-container-id-1 div.sk-toggleable__content {max-height: 0;max-width: 0;overflow: hidden;text-align: left;background-color: #f0f8ff;}#sk-container-id-1 div.sk-toggleable__content pre {margin: 0.2em;color: black;border-radius: 0.25em;background-color: #f0f8ff;}#sk-container-id-1 input.sk-toggleable__control:checked~div.sk-toggleable__content {max-height: 200px;max-width: 100%;overflow: auto;}#sk-container-id-1 input.sk-toggleable__control:checked~label.sk-toggleable__label-arrow:before {content: \"▾\";}#sk-container-id-1 div.sk-estimator input.sk-toggleable__control:checked~label.sk-toggleable__label {background-color: #d4ebff;}#sk-container-id-1 div.sk-label input.sk-toggleable__control:checked~label.sk-toggleable__label {background-color: #d4ebff;}#sk-container-id-1 input.sk-hidden--visually {border: 0;clip: rect(1px 1px 1px 1px);clip: rect(1px, 1px, 1px, 1px);height: 1px;margin: -1px;overflow: hidden;padding: 0;position: absolute;width: 1px;}#sk-container-id-1 div.sk-estimator {font-family: monospace;background-color: #f0f8ff;border: 1px dotted black;border-radius: 0.25em;box-sizing: border-box;margin-bottom: 0.5em;}#sk-container-id-1 div.sk-estimator:hover {background-color: #d4ebff;}#sk-container-id-1 div.sk-parallel-item::after {content: \"\";width: 100%;border-bottom: 1px solid gray;flex-grow: 1;}#sk-container-id-1 div.sk-label:hover label.sk-toggleable__label {background-color: #d4ebff;}#sk-container-id-1 div.sk-serial::before {content: \"\";position: absolute;border-left: 1px solid gray;box-sizing: border-box;top: 0;bottom: 0;left: 50%;z-index: 0;}#sk-container-id-1 div.sk-serial {display: flex;flex-direction: column;align-items: center;background-color: white;padding-right: 0.2em;padding-left: 0.2em;position: relative;}#sk-container-id-1 div.sk-item {position: relative;z-index: 1;}#sk-container-id-1 div.sk-parallel {display: flex;align-items: stretch;justify-content: center;background-color: white;position: relative;}#sk-container-id-1 div.sk-item::before, #sk-container-id-1 div.sk-parallel-item::before {content: \"\";position: absolute;border-left: 1px solid gray;box-sizing: border-box;top: 0;bottom: 0;left: 50%;z-index: -1;}#sk-container-id-1 div.sk-parallel-item {display: flex;flex-direction: column;z-index: 1;position: relative;background-color: white;}#sk-container-id-1 div.sk-parallel-item:first-child::after {align-self: flex-end;width: 50%;}#sk-container-id-1 div.sk-parallel-item:last-child::after {align-self: flex-start;width: 50%;}#sk-container-id-1 div.sk-parallel-item:only-child::after {width: 0;}#sk-container-id-1 div.sk-dashed-wrapped {border: 1px dashed gray;margin: 0 0.4em 0.5em 0.4em;box-sizing: border-box;padding-bottom: 0.4em;background-color: white;}#sk-container-id-1 div.sk-label label {font-family: monospace;font-weight: bold;display: inline-block;line-height: 1.2em;}#sk-container-id-1 div.sk-label-container {text-align: center;}#sk-container-id-1 div.sk-container {/* jupyter's `normalize.less` sets `[hidden] { display: none; }` but bootstrap.min.css set `[hidden] { display: none !important; }` so we also need the `!important` here to be able to override the default hidden behavior on the sphinx rendered scikit-learn.org. See: https://github.com/scikit-learn/scikit-learn/issues/21755 */display: inline-block !important;position: relative;}#sk-container-id-1 div.sk-text-repr-fallback {display: none;}</style><div id=\"sk-container-id-1\" class=\"sk-top-container\"><div class=\"sk-text-repr-fallback\"><pre>RandomForestClassifier()</pre><b>In a Jupyter environment, please rerun this cell to show the HTML representation or trust the notebook. <br />On GitHub, the HTML representation is unable to render, please try loading this page with nbviewer.org.</b></div><div class=\"sk-container\" hidden><div class=\"sk-item\"><div class=\"sk-estimator sk-toggleable\"><input class=\"sk-toggleable__control sk-hidden--visually\" id=\"sk-estimator-id-1\" type=\"checkbox\" checked><label for=\"sk-estimator-id-1\" class=\"sk-toggleable__label sk-toggleable__label-arrow\">RandomForestClassifier</label><div class=\"sk-toggleable__content\"><pre>RandomForestClassifier()</pre></div></div></div></div></div>"
            ]
          },
          "metadata": {},
          "execution_count": 8
        }
      ],
      "source": [
        "rf = RandomForestClassifier()\n",
        "\n",
        "rf.fit(x_train, y_train)"
      ],
      "id": "E3xPGUH3fEJ7"
    },
    {
      "cell_type": "markdown",
      "metadata": {
        "id": "LpDh24d5fEJ7"
      },
      "source": [
        "## Prediction"
      ],
      "id": "LpDh24d5fEJ7"
    },
    {
      "cell_type": "code",
      "source": [
        "y_pred = rf.predict(x_test)\n",
        "\n",
        "y_pred"
      ],
      "metadata": {
        "colab": {
          "base_uri": "https://localhost:8080/"
        },
        "id": "6q_mPtb2fO3r",
        "outputId": "892a608f-98bc-4c93-e5cb-81d79e0ddd1e"
      },
      "id": "6q_mPtb2fO3r",
      "execution_count": null,
      "outputs": [
        {
          "output_type": "execute_result",
          "data": {
            "text/plain": [
              "array([5, 1, 2, 4, 4, 1, 1, 3, 5, 0, 6, 0, 7, 0, 1, 7, 4, 0, 0, 7, 4, 5,\n",
              "       8, 8, 1, 0, 1, 1, 9, 6, 5, 6, 9, 7, 2, 2, 9, 4, 3, 0, 0, 4, 1, 9,\n",
              "       4, 4, 0, 7, 7, 9, 6, 3, 7, 0, 7, 4, 8, 2, 9, 5, 3, 9, 6, 4, 0, 4,\n",
              "       5, 4, 6, 2, 2, 4, 9, 5, 6, 2, 1, 1, 9, 1, 8, 4, 7, 9, 5, 6, 0, 0,\n",
              "       7, 2, 0, 4, 7, 0, 0, 0, 1, 8, 0, 7, 4, 3, 7, 6, 4, 8, 0, 6, 0, 5,\n",
              "       8, 3, 2, 6, 4, 0, 5, 7, 3, 4, 2, 4, 9, 4, 9, 5, 1, 1, 1, 5, 7, 8,\n",
              "       0, 7, 1, 0, 5, 5, 0, 5, 9, 5, 7, 2, 7, 7, 6, 9, 9, 2, 2, 8, 6, 0,\n",
              "       2, 9, 2, 7, 3, 5, 3, 4, 8, 0, 5, 3, 2, 5, 8, 2, 6, 1, 8, 8, 0, 3,\n",
              "       8, 3, 5, 9, 4, 9, 8, 2, 1, 1, 4, 2, 3, 0, 1, 9, 6, 7, 9, 5, 6, 0,\n",
              "       4, 7, 2, 7, 7, 4, 2, 9, 9, 2, 6, 4, 2, 7, 8, 9, 5, 0, 8, 3, 8, 5,\n",
              "       6, 2, 1, 7, 5, 7, 5, 0, 9, 1, 3, 0, 8, 6, 8, 9, 6, 3, 2, 5, 8, 5,\n",
              "       1, 6, 1, 1, 3, 8, 1, 0, 9, 8, 0, 6, 8, 1, 3, 3, 4, 1, 7, 6, 4, 0,\n",
              "       7, 0, 0, 6, 0, 9, 4, 6, 6, 7, 1, 3, 2, 7, 8, 1, 6, 1, 6, 2, 0, 5,\n",
              "       4, 0, 6, 8, 6, 8, 7, 4, 5, 9, 6, 5, 2, 3, 6, 3, 3, 4, 0, 5, 2, 7,\n",
              "       9, 9, 1, 7, 4, 5, 6, 3, 6, 6, 5, 3, 4, 7, 8, 8, 5, 0, 2, 2, 5, 0,\n",
              "       9, 0, 4, 5, 2, 0, 1, 2, 5, 4, 4, 9, 9, 7, 8, 6, 4, 7, 1, 9, 3, 6,\n",
              "       3, 5, 5, 1, 5, 5, 8, 2, 7, 8, 7, 7, 9, 3, 6, 1, 7, 8, 9, 8, 2, 2,\n",
              "       5, 4, 4, 8, 3, 3, 2, 3, 2, 3, 7, 7, 2, 1, 8, 6, 7, 2, 0, 2, 5, 0,\n",
              "       0, 2, 4, 7, 3, 4, 7, 5, 9, 9, 3, 0, 4, 5, 1, 4, 4, 2, 8, 3, 7, 2,\n",
              "       1, 2, 7, 1, 3, 8, 3, 8, 0, 3, 3, 1, 9, 1, 6, 8, 2, 7, 7, 0, 9, 0,\n",
              "       8, 7, 4, 9, 9, 1, 9, 7, 9, 8, 5, 9, 2, 4, 0, 1, 1, 3, 0, 0, 7, 5,\n",
              "       7, 0, 4, 3, 7, 1, 2, 9, 3, 1, 4, 3, 3, 6, 4, 3, 1, 2, 9, 4, 3, 6,\n",
              "       2, 9, 4, 7, 5, 9, 0, 2, 8, 3, 2, 9, 3, 5, 8, 1, 4, 7, 1, 1, 1, 6,\n",
              "       4, 7, 0, 8, 3, 6, 7, 5, 0, 4, 9, 2, 2, 9, 5, 7, 1, 5, 5, 0, 7, 9,\n",
              "       4, 8, 1, 8, 2, 1, 3, 2, 8, 8, 6, 2])"
            ]
          },
          "metadata": {},
          "execution_count": 9
        }
      ]
    },
    {
      "cell_type": "markdown",
      "metadata": {
        "id": "sXzRzqVmfEJ7"
      },
      "source": [
        "## Model Evaluation"
      ],
      "id": "sXzRzqVmfEJ7"
    },
    {
      "cell_type": "code",
      "execution_count": null,
      "metadata": {
        "colab": {
          "base_uri": "https://localhost:8080/"
        },
        "id": "7bjaDVX9fEJ7",
        "outputId": "b968a745-f24a-4d04-b5a1-7bcd55b341d0"
      },
      "outputs": [
        {
          "output_type": "stream",
          "name": "stdout",
          "text": [
            "              precision    recall  f1-score   support\n",
            "\n",
            "           0       0.98      0.98      0.98        60\n",
            "           1       0.98      1.00      0.99        54\n",
            "           2       0.96      1.00      0.98        55\n",
            "           3       0.98      0.96      0.97        51\n",
            "           4       0.98      0.97      0.97        58\n",
            "           5       1.00      0.96      0.98        55\n",
            "           6       1.00      0.98      0.99        46\n",
            "           7       0.97      1.00      0.98        59\n",
            "           8       0.96      0.94      0.95        50\n",
            "           9       0.94      0.96      0.95        52\n",
            "\n",
            "    accuracy                           0.98       540\n",
            "   macro avg       0.98      0.98      0.98       540\n",
            "weighted avg       0.98      0.98      0.98       540\n",
            "\n"
          ]
        }
      ],
      "source": [
        "confusion_matrix(y_test, y_pred)\n",
        "\n",
        "print(classification_report(y_test, y_pred))"
      ],
      "id": "7bjaDVX9fEJ7"
    },
    {
      "cell_type": "markdown",
      "source": [
        "##Explanation\n",
        "\n",
        "This Python script demonstrates a complete workflow for classifying handwritten digits using the Random Forest algorithm. It begins by loading the digits dataset from sklearn, which consists of 8x8 pixel images of digits along with their corresponding labels. After visualizing a subset of the data, it reshapes each image into a flattened array and normalizes pixel values to improve model performance. The dataset is then split into training and testing sets using train_test_split. A Random Forest classifier is trained on the training data and evaluated using the testing data. Finally, it calculates and prints metrics such as the confusion matrix and classification report, which provide insights into the model's accuracy and performance. This code is useful for understanding the workflow of machine learning tasks, from data loading and preprocessing to model training and evaluation, thereby aiding in the development of skills in data manipulation, model building, and performance assessment."
      ],
      "metadata": {
        "id": "tJp8OFfMfReI"
      },
      "id": "tJp8OFfMfReI"
    }
  ],
  "metadata": {
    "kernelspec": {
      "display_name": "Python 3",
      "language": "python",
      "name": "python3"
    },
    "language_info": {
      "codemirror_mode": {
        "name": "ipython",
        "version": 3
      },
      "file_extension": ".py",
      "mimetype": "text/x-python",
      "name": "python",
      "nbconvert_exporter": "python",
      "pygments_lexer": "ipython3",
      "version": "3.7.10"
    },
    "colab": {
      "provenance": []
    }
  },
  "nbformat": 4,
  "nbformat_minor": 5
}